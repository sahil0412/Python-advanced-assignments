{
 "cells": [
  {
   "cell_type": "markdown",
   "id": "3d61b47e-adc3-4a79-a7f4-37cb91d3ad25",
   "metadata": {},
   "source": [
    "# Assignment 11 Solutions"
   ]
  },
  {
   "cell_type": "markdown",
   "id": "e2eb6a12-3368-46e1-8df3-28c0ea959287",
   "metadata": {},
   "source": [
    "#### Q1. What is the concept of a metaclass?\n",
    "**Ans:** Metaclass in Python is a class of a class that defines how a class behaves. A class is itself a instance of Metaclass, and any Instance of Class in Python is an Instance of type metaclass. E.g. Type of of `int`, `str`, `float`, `list`, `tuple` and many more is of metaclass type. In Python, everything is an object, including classes. When you define a class in Python, you're actually creating an instance of its metaclass. By default, in Python 3, the metaclass of a class is typically `type`, but you can define custom metaclasses to control how classes are created and behave."
   ]
  },
  {
   "cell_type": "code",
   "execution_count": 1,
   "id": "f043308a-2073-4fef-85f9-ce838e302796",
   "metadata": {},
   "outputs": [
    {
     "name": "stdout",
     "output_type": "stream",
     "text": [
      "Creating class: MyClass\n",
      "Initializing MyClass instance\n"
     ]
    }
   ],
   "source": [
    "class MyMeta(type):\n",
    "    def __new__(cls, name, bases, dct):\n",
    "        # Customize class creation\n",
    "        print(\"Creating class:\", name)\n",
    "        return super().__new__(cls, name, bases, dct)\n",
    "\n",
    "class MyClass(metaclass=MyMeta):\n",
    "    def __init__(self):\n",
    "        print(\"Initializing MyClass instance\")\n",
    "\n",
    "# Creating an instance of MyClass\n",
    "obj = MyClass()\n"
   ]
  },
  {
   "cell_type": "markdown",
   "id": "158e9d3b-37c4-4e6d-a742-10bba3ac7043",
   "metadata": {},
   "source": [
    "#### Q2. What is the best way to declare a class's metaclass?\n",
    "**Ans:** A way to declare a class’ metaclass is by using **`metaclass`** keyword in class definition."
   ]
  },
  {
   "cell_type": "code",
   "execution_count": 2,
   "id": "785c84c3-f8b1-4e04-9edc-54d501bf2250",
   "metadata": {},
   "outputs": [
    {
     "name": "stdout",
     "output_type": "stream",
     "text": [
      "<class 'type'>\n",
      "<class '__main__.meta'>\n"
     ]
    }
   ],
   "source": [
    "class meta(type):\n",
    "    pass\n",
    "class class_meta(metaclass=meta):\n",
    "    pass\n",
    "print(type(meta))\n",
    "print(type(class_meta))"
   ]
  },
  {
   "cell_type": "markdown",
   "id": "e3b3a0e7-8683-4bd9-9c1f-e18114881ec6",
   "metadata": {},
   "source": [
    "#### Q3. How do class decorators overlap with metaclasses for handling classes ?\n",
    "**Ans:** Anything you can do with a class decorator, you can of course do with a custom metaclasses (just apply the functionality of the \"decorator function\", i.e., the one that takes a class object and modifies it, in the course of the metaclass's **`__new__`** or **`__init__`** that make the class object!)."
   ]
  },
  {
   "cell_type": "markdown",
   "id": "1d02fc5c-809b-4e5f-bb5f-6c4efea1f543",
   "metadata": {},
   "source": [
    "#### Q4. How do class decorators overlap with metaclasses for handling instances?\n",
    "**Ans:**  Anything you can do with a class decorator, you can of course do with a custom metaclass (just apply the functionality of the \"decorator function\", i.e., the one that takes a class object and modifies it, in the course of the metaclass's **`__new__`** or **`__init__`** that make the class object!)."
   ]
  },
  {
   "cell_type": "code",
   "execution_count": null,
   "id": "507fc642-58be-4ae1-99b1-ebe07ac97343",
   "metadata": {},
   "outputs": [],
   "source": []
  }
 ],
 "metadata": {
  "kernelspec": {
   "display_name": "Python 3 (ipykernel)",
   "language": "python",
   "name": "python3"
  },
  "language_info": {
   "codemirror_mode": {
    "name": "ipython",
    "version": 3
   },
   "file_extension": ".py",
   "mimetype": "text/x-python",
   "name": "python",
   "nbconvert_exporter": "python",
   "pygments_lexer": "ipython3",
   "version": "3.8.10"
  }
 },
 "nbformat": 4,
 "nbformat_minor": 5
}
