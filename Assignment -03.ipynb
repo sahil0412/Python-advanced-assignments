{
 "cells": [
  {
   "cell_type": "markdown",
   "id": "a604687a-4abf-44c7-8566-e1fac53023df",
   "metadata": {},
   "source": [
    "# Assignment 03 Solutions"
   ]
  },
  {
   "cell_type": "markdown",
   "id": "d520c1d2-e4d7-4bfc-93a1-30c2ff6f2733",
   "metadata": {},
   "source": [
    "#### 1. What is the concept of an abstract superclass?\n",
    "**Ans:** An abstract class/superclass can be considered as a blueprint for other classes. It allows you to create a set of methods that must be created within any child classes built from the abstract class. A class which contains one or more abstract methods is called an abstract class.\n",
    "\n",
    "Whereas an abstract method is a method that has a declaration but does not have an implementation\n",
    "\n",
    "In Python, abstract superclasses are implemented using the abc module, which stands for Abstract Base Classes. The abc module provides the ABC class, which serves as a base class for defining abstract classes, and the abstractmethod decorator, which is used to declare abstract methods."
   ]
  },
  {
   "cell_type": "code",
   "execution_count": 1,
   "id": "985d886d-4920-488d-9c19-e7076ab49860",
   "metadata": {},
   "outputs": [
    {
     "name": "stdout",
     "output_type": "stream",
     "text": [
      "Area of rectangle: 20\n",
      "Perimeter of rectangle: 18\n"
     ]
    }
   ],
   "source": [
    "from abc import ABC, abstractmethod\n",
    "\n",
    "class Shape(ABC):\n",
    "    @abstractmethod\n",
    "    def area(self):\n",
    "        pass\n",
    "\n",
    "    @abstractmethod\n",
    "    def perimeter(self):\n",
    "        pass\n",
    "\n",
    "class Rectangle(Shape):\n",
    "    def __init__(self, width, height):\n",
    "        self.width = width\n",
    "        self.height = height\n",
    "    \n",
    "    def area(self):\n",
    "        return self.width * self.height\n",
    "    \n",
    "    def perimeter(self):\n",
    "        return 2 * (self.width + self.height)\n",
    "\n",
    "# Attempting to instantiate the abstract class will raise an error\n",
    "# shape = Shape()  # This will raise a TypeError\n",
    "\n",
    "# Creating an instance of the Rectangle class, which is a subclass of Shape\n",
    "rectangle = Rectangle(5, 4)\n",
    "print(\"Area of rectangle:\", rectangle.area())  # Output: Area of rectangle: 20\n",
    "print(\"Perimeter of rectangle:\", rectangle.perimeter())  # Output: Perimeter of rectangle: 18\n"
   ]
  },
  {
   "cell_type": "markdown",
   "id": "470ebfc2-2cd3-437b-b89a-d3307cf8e65c",
   "metadata": {},
   "source": [
    "#### 2. What happens when a class statement's top level contains a basic assignment statement?\n",
    "**Ans:** When a Class statement's top level contains a basic assignment statement, its usually treated as a class attribute or class level variable. \n",
    "\n",
    "where as assignment statements inside methods are treated as instance attributes or local attributes.\n",
    "\n",
    "When an instance of a class is created a single copy of class attributes is maintained and shared to all instances of class. where as each instance object maintains its own copy of instance variables."
   ]
  },
  {
   "cell_type": "code",
   "execution_count": 2,
   "id": "c7378ae4-2e64-45d0-ad5e-ce0a4a33ac0a",
   "metadata": {},
   "outputs": [],
   "source": [
    "class Person:\n",
    "    species = 'Homesapiens' # class attribute\n",
    "    def __init__(self,name,gender):\n",
    "        self.name = name # instance attributes\n",
    "        self.gender = gender"
   ]
  },
  {
   "cell_type": "markdown",
   "id": "8ecdd5a3-1d20-4c25-b554-458ecd498f8f",
   "metadata": {},
   "source": [
    "#### 3. Why does a class need to manually call a superclass's __init__ method?\n",
    "**Ans:** if a child class has **`__init__`** method, then it will not inherit the **`__init__`** method of the parent class. in other words the **`__init__`** method of the child class overrides the **`__init__`** method of the parent class. so we have to manually call a parent superclass's **`__init__`** using **`super()`** method"
   ]
  },
  {
   "cell_type": "code",
   "execution_count": 3,
   "id": "380c1962-fb4c-4966-8ac4-dae0d554fed2",
   "metadata": {},
   "outputs": [
    {
     "name": "stdout",
     "output_type": "stream",
     "text": [
      "{'name': 'Vivek', 'age': 28, 'salary': 20000}\n"
     ]
    }
   ],
   "source": [
    "class Person:\n",
    "    def __init__(self,name,age):\n",
    "        self.name = name\n",
    "        self.age = age       \n",
    "class Employee(Person):\n",
    "    def __init__(self,name,age,salary):\n",
    "        super().__init__(name,age)\n",
    "        self.salary = salary\n",
    "emp_1 = Employee('Vivek',28,20000)\n",
    "print(emp_1.__dict__)"
   ]
  },
  {
   "cell_type": "markdown",
   "id": "6e54d53e-457e-4d24-a352-f01ab32d86ae",
   "metadata": {},
   "source": [
    "#### 4. How can you augment, instead of completely replacing, an inherited method?\n",
    "**Ans:** **`super()`** method can be used to augment, instead of completely replacing, an inherited method."
   ]
  },
  {
   "cell_type": "code",
   "execution_count": 4,
   "id": "a59a397a-b11b-44d4-baed-36ec27c6870a",
   "metadata": {},
   "outputs": [
    {
     "name": "stdout",
     "output_type": "stream",
     "text": [
      "{'name': 'Vivek', 'gender': 'Male', 'salary': 10000}\n"
     ]
    }
   ],
   "source": [
    "class Person:\n",
    "    def __init__(self,name,gender):\n",
    "        self.name = name\n",
    "        self.gender = gender\n",
    "class Employee(Person):\n",
    "    def __init__(self,name,gender,salary):\n",
    "        super().__init__(name,gender) \n",
    "        self.salary = salary\n",
    "emp_1 = Employee('Vivek','Male',10000)\n",
    "print(emp_1.__dict__)       "
   ]
  },
  {
   "cell_type": "markdown",
   "id": "9d52b1b7-f3b5-4aa6-8754-208b03891af2",
   "metadata": {},
   "source": [
    "#### 5. How is the local scope of a class different from that of a function?\n",
    "**Ans:** A Variable which is defined inside a function is local to that function. it is accesible from the point at which it is defined until the end of the function, and exists for as long as the function is existing.\n",
    "\n",
    "Similary a variable inside of a class also has a local variable scope. Variables which are defined in the class body (but outside all methods) are called as class level variables or class attributes. they can be referenced by there bare names within the same scope, but they can also be accessed from outside this scope if we use the attribute access operator `(.)`. on a class or an instance of the class."
   ]
  },
  {
   "cell_type": "code",
   "execution_count": null,
   "id": "bfcf38bb-372b-4716-a90f-ec0783152ab0",
   "metadata": {},
   "outputs": [],
   "source": []
  }
 ],
 "metadata": {
  "kernelspec": {
   "display_name": "Python 3 (ipykernel)",
   "language": "python",
   "name": "python3"
  },
  "language_info": {
   "codemirror_mode": {
    "name": "ipython",
    "version": 3
   },
   "file_extension": ".py",
   "mimetype": "text/x-python",
   "name": "python",
   "nbconvert_exporter": "python",
   "pygments_lexer": "ipython3",
   "version": "3.8.10"
  }
 },
 "nbformat": 4,
 "nbformat_minor": 5
}
