{
 "cells": [
  {
   "cell_type": "markdown",
   "id": "eb3c2d97-e7dd-459b-a1f9-c71ae966a3ee",
   "metadata": {},
   "source": [
    "# Assignment 09 Solutions"
   ]
  },
  {
   "cell_type": "markdown",
   "id": "56b17327-0810-46a0-810d-53abefb78c59",
   "metadata": {},
   "source": [
    "#### Q1. In Python 3.X, what are the names and functions of string object types?\n",
    "**Ans:** The following are the names and functions of string object types in Python 3.X\n",
    "- **`<stirng>.isdecimal() ->`** Returns True if all characters in a string are decimal.\n",
    "- **`<string>.isalnum() ->`** Returns True if all characters in the string are AlphaNumeric.\n",
    "- **`<string>.istitle() ->`** Returns True if first character in a string is in Uppercase.\n",
    "- **`<string>.partition(<sub_string>) ->`** Splits string at first occurance of sub string and returns a tuple of 3 elements.\n",
    "- **`<string>.rpartition(<sub_string>) ->`** Splits string at last occurance of sub string and returns a tuple of 3 elements.\n",
    "- **`<string>.isidentifier() ->`** Returns True if give string is a valid identifier name.\n",
    "- **`len(<string>) ->`** Returns the length of the given string.\n",
    "- **`<string>.index(<sub_string>) ->`** Returns the lowest index of substring if substring is found in the string.\n",
    "- **`<string>.rindex(<sub_string>) ->`** Returns the highest index of substring if substring is found in the string.\n",
    "- **`max(<string>) ->`** Returns the highest Alphabetical Character in the string as per ASCII.\n",
    "- **`min(<string>) ->`** Returns the lowest Alphabetical Character in the string as per ASCII.\n",
    "- **`<string>.splitlines() ->`** Returns a list of lines in the string.\n",
    "- **`<string>.capitalize() ->`** Returns the string with first character capitalized.\n",
    "- **`<string>.upper() ->`** Returns the string with all characters in uppercase.\n",
    "- **`<string>.lower() ->`** Returns the string with all characters in lowercase\n",
    "- **`<string>.casefold() ->`** Returns the string in lowercase which can be used for caseless comparisions.\n",
    "- **`<string>.expandtabs(no_of_spaces) ->`** Replaces tabs in a string with specified no of spaces default is 8\n",
    "- **`<string>.find(<sub_string>) ->`** Returns lowest index of substring if substring is found in the string else returns -1.\n",
    "- **`<string>.rfind(<sub_string>) ->`** Returns highest index of substring if substring is found in the string else returns -1.\n",
    "- **`<string>.count(<char>) ->`** Returns the no of occurances of the char in the given string.\n",
    "- **`<string>.split(<sep>) ->`** Returns list of words seperated by given sep else seperated by whitespace.\n",
    "- **`<string>.rsplit(<sep>) ->`** Returns list of words seperated by given sep else seperated by whitespace scanning from end.\n",
    "- **`<string>.lstrip() ->`** Returns a copy of where leading whitespaces are removed.\n",
    "- **`<string>.rstrip() ->`** Returns a copy of where trailed whitespaces are removed.\n",
    "- **`<string>.strip() ->`** Returns a copy of where both leading and trailing whitespaces are removed.\n",
    "- **`<string>.swapcase() ->`** Swaps lowercase characters with uppercase and vice versa.\n",
    "- **`<sep>.join(<list>) ->`** Concatenates a list or tuple of words with intervening occuernces of sep.\n",
    "- **`<string>.translate(<mapping_table>) ->`** translates the characters using table.\n",
    "- **`<string>.maketrans(<dict>) ->`** Creating a mapping translation tbale usable for **`<string>.translate(<mapping_table>)`**\n",
    "- **`<string>.replace(<char_1>,<char_2>) ->`** Replace all occurances of char_1 with char_2 in string.\n",
    "- **`<string>.encode() ->`** Encodes string into any encoding supported by python. Default encoding is **`UTF-8`**.\n",
    "- **`<string>.ljust(<no_of_spaces>) ->`** Left-justify in a field of given width.\n",
    "- **`<string>.rjust(<no_of_spaces>) ->`** Right-justify in a field of given width.\n",
    "- **`<string>.center(<no_of_spaces>) ->`** Center-justify in a field of given width.\n",
    "- **`<stirng>.zfill(<length>) ->`** Zfill adds zeros to the begining of string until the specified length is reached."
   ]
  },
  {
   "cell_type": "code",
   "execution_count": 1,
   "id": "daeeb652-e22c-44c9-b702-4af5e7a022f6",
   "metadata": {},
   "outputs": [
    {
     "name": "stdout",
     "output_type": "stream",
     "text": [
      "True\n",
      "True\n",
      "False\n",
      "('\"I could eat ', 'bananas', ' all day, bananas are my favorite fruit\"')\n",
      "('\"I could eat bananas all day, ', 'bananas', ' are my favorite fruit\"')\n",
      "True\n",
      "17\n",
      "1\n",
      "6\n",
      "t\n",
      "A\n",
      "['Ineuron ', ' Full Stack ', ' Data Science ', ' Course ']\n",
      "Finding nemo\n",
      "DATAPIPELINES\n",
      "mlops\n",
      "doloris jane umbridge\n",
      "Data science    Data Analyst\n",
      "1\n",
      "6\n",
      "2\n",
      "['i', 'euro', '']\n",
      "['i', 'euro', '']\n",
      "EDA \n",
      " EDA\n",
      "EDA\n",
      "eXPLORATORY dATA aNALYSIS\n",
      "Iris_flower_Dataset\n",
      "Hello Pam!\n",
      "Hello Pam!\n",
      "I2euro2\n",
      "b'Natural Language Processing'\n",
      "Nemo      \n",
      "      Nemo\n",
      "   Nemo   \n",
      "00000Hello\n"
     ]
    }
   ],
   "source": [
    "print('1234567890'.isdecimal())\n",
    "print('IneuronFullStackDS'.isalnum())\n",
    "print('Ineuron Full Stack Data science'.istitle())\n",
    "print('\"I could eat bananas all day, bananas are my favorite fruit\"'.partition('bananas'))\n",
    "print('\"I could eat bananas all day, bananas are my favorite fruit\"'.rpartition('bananas'))\n",
    "print('GeeksForFreaks'.isidentifier())\n",
    "print(len('Linear Regression'))\n",
    "print('Ineuron'.index('n'))\n",
    "print('Ineuron'.rindex('n'))\n",
    "print(max('Data_Scientist'))\n",
    "print(min('Data_Analyst'))\n",
    "print('Ineuron \\n Full Stack \\n Data Science \\n Course '.splitlines())\n",
    "print('finding nemo'.capitalize())\n",
    "print('datapipelines'.upper())\n",
    "print('MLOPS'.lower())\n",
    "print('Doloris Jane Umbridge'.casefold())\n",
    "print('Data science\\tData Analyst'.expandtabs(8))\n",
    "print('Ineuron'.find('n'))\n",
    "print('Ineuron'.rfind('n'))\n",
    "print('Transformers'.count('s'))\n",
    "print('ineuron'.split('n'))\n",
    "print('ineuron'.rsplit('n'))\n",
    "print(' EDA '.lstrip())\n",
    "print(' EDA '.rstrip())\n",
    "print(' EDA '.strip())\n",
    "print('Exploratory Data Analysis'.swapcase())\n",
    "print('_'.join(['Iris','flower','Dataset']))\n",
    "\n",
    "mydict = {83:  80}\n",
    "print(\"Hello Sam!\".translate(mydict))\n",
    "\n",
    "txt = \"Hello Sam!\"\n",
    "mytable = txt.maketrans(\"S\", \"P\")\n",
    "print(txt.translate(mytable))\n",
    "\n",
    "print('Ineuron'.replace('n','2'))\n",
    "print('Natural Language Processing'.encode())\n",
    "print('Nemo'.ljust(10))\n",
    "print('Nemo'.rjust(10))\n",
    "print('Nemo'.center(10))\n",
    "print('Hello'.zfill(10))"
   ]
  },
  {
   "cell_type": "markdown",
   "id": "2858255b-83f2-4e8a-a9c2-c0258350d3bb",
   "metadata": {},
   "source": [
    "#### Q2. How do the string forms in Python 3.X vary in terms of operations?\n",
    "**Ans:** In Python3 default format of strings is Unicode Whereas in Python2 we need to explicitly mention Unicode value using `u`."
   ]
  },
  {
   "cell_type": "markdown",
   "id": "ad66d5cc-10ac-42c4-bc93-b2fdcd53c5ec",
   "metadata": {},
   "source": [
    "#### Q3. In Python 3.X, how do you put non-ASCII Unicode characters in a string?\n",
    "**Ans:** In Python 3.x, you can include non-ASCII Unicode characters directly in a string by using Unicode literals or by encoding the characters using Unicode escape sequences."
   ]
  },
  {
   "cell_type": "code",
   "execution_count": 8,
   "id": "8fffc054-595b-4192-978d-3e538ec93c0d",
   "metadata": {},
   "outputs": [
    {
     "name": "stdout",
     "output_type": "stream",
     "text": [
      "Hello, こんにちは\n"
     ]
    }
   ],
   "source": [
    "# Unicode literal with non-ASCII characters\n",
    "unicode_string = u\"Hello, こんにちは\"\n",
    "print(unicode_string)\n"
   ]
  },
  {
   "cell_type": "markdown",
   "id": "24abb7f0-aa8c-4d85-919b-aef26052cb17",
   "metadata": {},
   "source": [
    "#### Q4. In Python 3.X, what are the key differences between text-mode and binary-mode files?\n",
    "**Ans:** The major difference between these two is that a text file contains textual information in the form of alphabets, digits and special characters or symbols. On the other hand, a binary file contains bytes or a compiled version of a text file.\n",
    "\n",
    "When a file is opened in **text mode**, reading its data automatically decodes its content (as per the platform default or as per provided encoding), and returns it as a **str**; writing operation takes a **str**, and automatically encodes it before transferring to the file. Text mode files also support universal end-of-line translation, and encoding specification arguments.\n",
    "\n",
    "When a file is opened in **binary mode** by adding a **`b`** to the mode string argument in the `open()` call, reading its data does not decode it in any way, and simply returns its content raw and unchanged, as a bytes object; writing takes a bytes object and transfers it to the file unchanged. Binary-mode files also accept a bytearray object for the content to be written to the file."
   ]
  },
  {
   "cell_type": "markdown",
   "id": "c79c5a74-3d0a-4b97-8398-819765698056",
   "metadata": {},
   "source": [
    "#### Q5. How can you interpret a Unicode text file containing text encoded in a different encoding than your platform's default?\n",
    "**Ans:** To interpret a Unicode text file containing text encoded in a different encoding than your platform's default, you can specify the encoding explicitly when opening the file using Python's built-in open() function. You can use the encoding parameter to specify the encoding used in the text file, ensuring that Python interprets the file correctly."
   ]
  },
  {
   "cell_type": "code",
   "execution_count": 10,
   "id": "f39e469a-4adc-446c-aecd-449f7bae4262",
   "metadata": {},
   "outputs": [
    {
     "name": "stdout",
     "output_type": "stream",
     "text": [
      "улыбаться Владимир Путин\n"
     ]
    }
   ],
   "source": [
    "# Open the Unicode text file with the specified encoding\n",
    "with open('w_file.txt', 'r', encoding='utf-8') as file:\n",
    "    text = file.read()\n",
    "\n",
    "# Process the text data as needed\n",
    "print(text)\n"
   ]
  },
  {
   "cell_type": "markdown",
   "id": "5df515bb-d31c-4cdb-a855-0afa9713423a",
   "metadata": {},
   "source": [
    "#### Q6. What is the best way to make a Unicode text file in a particular encoding format?\n",
    "**Ans:**  Use **`str.encode()`** and **`file.write()`** to make a Unicode text file in a particular encoding format, default encoding format is **`UTF-18`**. \n",
    "- Call **`str.encode(encoding)`** with encoding set to **`utf8`** to encode str. \n",
    "- Call **`open(file, mode)`** to open a file with mode set to **`wb`** . **`wb`** writes to files in binary mode & preserves UTF-8format. \n",
    "- Call **`file.write(data)`** to write data to the file. "
   ]
  },
  {
   "cell_type": "code",
   "execution_count": 9,
   "id": "82f64db5-da0c-4445-8f5b-8ba82939e6be",
   "metadata": {},
   "outputs": [
    {
     "name": "stdout",
     "output_type": "stream",
     "text": [
      "b'\\xd1\\x83\\xd0\\xbb\\xd1\\x8b\\xd0\\xb1\\xd0\\xb0\\xd1\\x82\\xd1\\x8c\\xd1\\x81\\xd1\\x8f \\xd0\\x92\\xd0\\xbb\\xd0\\xb0\\xd0\\xb4\\xd0\\xb8\\xd0\\xbc\\xd0\\xb8\\xd1\\x80 \\xd0\\x9f\\xd1\\x83\\xd1\\x82\\xd0\\xb8\\xd0\\xbd'\n",
      "\n",
      "b'\\xd1\\x83\\xd0\\xbb\\xd1\\x8b\\xd0\\xb1\\xd0\\xb0\\xd1\\x82\\xd1\\x8c\\xd1\\x81\\xd1\\x8f \\xd0\\x92\\xd0\\xbb\\xd0\\xb0\\xd0\\xb4\\xd0\\xb8\\xd0\\xbc\\xd0\\xb8\\xd1\\x80 \\xd0\\x9f\\xd1\\x83\\xd1\\x82\\xd0\\xb8\\xd0\\xbd'\n"
     ]
    }
   ],
   "source": [
    "unicode_text = u\"улыбаться Владимир Путин\"\n",
    "encoded_unicode_text = unicode_text.encode(\"utf-8\")\n",
    "print(encoded_unicode_text,end=\"\\n\\n\")\n",
    "\n",
    "w_file = open(\"w_file.txt\",\"wb\")\n",
    "w_file.write(encoded_unicode_text)\n",
    "w_file.close()\n",
    "\n",
    "r_file = open(\"w_file.txt\",\"rb\")\n",
    "data = r_file.read()\n",
    "print(data)"
   ]
  },
  {
   "cell_type": "markdown",
   "id": "56f4b99a-1f1b-4330-b320-7cdb7dd571ec",
   "metadata": {},
   "source": [
    "#### Q7. What qualifies ASCII text as a form of Unicode text?\n",
    "**Ans:** **`Unicode`** represents most written languages in the world. **`ASCII`** has its equivalent in Unicode. The difference between ASCII and Unicode is that ASCII represents `lowercase letters (a-z)`, `uppercase letters (A-Z)`, `digits (0–9)` and symbols such as punctuation marks while Unicode represents letters of English, Arabic, Greek etc. mathematical symbols, historical scripts, emoji covering a wide range of characters than ASCII."
   ]
  },
  {
   "cell_type": "markdown",
   "id": "731eea31-c61b-47d0-9424-767294b325f5",
   "metadata": {},
   "source": [
    "#### Q8. How much of an effect does the change in string types in Python 3.X have on your code?\n",
    "**Ans:** Python 3 stores strings as Unicode by default whereas Python 2 requires you to mark a string with a **`u`** if you want to store it as Unicode. Unicode strings are more versatile than ASCII strings, which are the Python 3.X default, as they can store letters from foreign languages as well as emoji and the standard Roman letters and numerals."
   ]
  },
  {
   "cell_type": "code",
   "execution_count": null,
   "id": "10dcc3b6-cf0d-4458-af60-7d7e69c36a92",
   "metadata": {},
   "outputs": [],
   "source": []
  }
 ],
 "metadata": {
  "kernelspec": {
   "display_name": "Python 3 (ipykernel)",
   "language": "python",
   "name": "python3"
  },
  "language_info": {
   "codemirror_mode": {
    "name": "ipython",
    "version": 3
   },
   "file_extension": ".py",
   "mimetype": "text/x-python",
   "name": "python",
   "nbconvert_exporter": "python",
   "pygments_lexer": "ipython3",
   "version": "3.8.10"
  }
 },
 "nbformat": 4,
 "nbformat_minor": 5
}
