{
 "cells": [
  {
   "cell_type": "markdown",
   "id": "1a1da9ca-f09d-4a6d-83f2-c3da3396f809",
   "metadata": {},
   "source": [
    "# Assignment 10 Solutions"
   ]
  },
  {
   "cell_type": "markdown",
   "id": "3ed78b19-868c-437c-a01f-babce0b2ed8f",
   "metadata": {},
   "source": [
    "#### Q1. What is the difference between `__getattr__` and `__getattribute__`?\n",
    "**Ans:**  **`__getattr__`** is invoked when an attempt is made to access an attribute that does not exist on an object.\n",
    "\n",
    " **`__getattribute__`** is called every time an attribute is accessed on an object, regardless of whether the attribute exists or not."
   ]
  },
  {
   "cell_type": "code",
   "execution_count": 1,
   "id": "4f94b293-c501-43fe-a2a0-6e1c9b832f39",
   "metadata": {},
   "outputs": [
    {
     "name": "stdout",
     "output_type": "stream",
     "text": [
      "Accessing attribute: x\n",
      "42\n",
      "Accessing attribute: nonexistent_attribute\n",
      "Attribute 'nonexistent_attribute' does not exist.\n"
     ]
    }
   ],
   "source": [
    "class MyClass:\n",
    "    def __init__(self):\n",
    "        self.x = 42\n",
    "    def __getattr__(self, name):\n",
    "        return f\"Attribute '{name}' does not exist.\"\n",
    "    def __getattribute__(self, name):\n",
    "        print(f\"Accessing attribute: {name}\")\n",
    "        return super().__getattribute__(name)\n",
    "        \n",
    "obj = MyClass()\n",
    "print(obj.x)  \n",
    "print(obj.nonexistent_attribute)  # Output: Attribute 'nonexistent_attribute' does not exist.\n"
   ]
  },
  {
   "cell_type": "markdown",
   "id": "c30bdc84-8d67-452b-b2b1-4ca747cae317",
   "metadata": {},
   "source": [
    "#### Q2. What is the difference between properties and descriptors?\n",
    "**Ans:** The differences between Properties and Descriptors is:\n",
    "\n",
    "**Properties:** Properties are a built-in feature in Python that allow you to define getter, setter, and deleter methods for accessing and modifying object attributes. Properties are defined using the `property()` function or the `@property` decorator. Properties are bound to a specific attribute name within a class and are accessed directly through that attribute name.\n",
    "\n",
    "**Descriptor:** Descriptors are a more general-purpose mechanism for defining how attribute access is handled in Python. Descriptors are defined by creating a class with one or more of the special methods `__get__()`, `__set__()`, and `__delete__()`. Descriptors can be reused across multiple attributes or classes, providing more flexibility and reusability compared to properties."
   ]
  },
  {
   "cell_type": "markdown",
   "id": "62b2ec41-b055-4451-bc83-874974fdbcba",
   "metadata": {},
   "source": [
    "# Property\n",
    "class MyClass:\n",
    "    def __init__(self):\n",
    "        self._x = None\n",
    "\n",
    "    @property\n",
    "    def x(self):\n",
    "        return self._x\n",
    "\n",
    "    @x.setter\n",
    "    def x(self, value):\n",
    "        self._x = value\n",
    "\n",
    "obj = MyClass()\n",
    "obj.x = 42\n",
    "print(obj.x)  # Output: 42\n"
   ]
  },
  {
   "cell_type": "code",
   "execution_count": 4,
   "id": "aaeb6694-bb38-471f-ba06-788ea23953a1",
   "metadata": {},
   "outputs": [
    {
     "name": "stdout",
     "output_type": "stream",
     "text": [
      "42\n"
     ]
    }
   ],
   "source": [
    "# Descriptor\n",
    "class Descriptor:\n",
    "    def __get__(self, instance, owner):\n",
    "        return instance.__dict__.get('_x', None)\n",
    "\n",
    "    def __set__(self, instance, value):\n",
    "        instance.__dict__['_x'] = value\n",
    "\n",
    "class MyClass:\n",
    "    x = Descriptor()\n",
    "\n",
    "obj = MyClass()\n",
    "obj.x = 42\n",
    "print(obj.x)  # Output: 42\n"
   ]
  },
  {
   "cell_type": "markdown",
   "id": "a6ccf451-c3b3-442f-8da4-30b7be2613d8",
   "metadata": {},
   "source": [
    "#### Q3. What are the key differences in functionality between __getattr__ and __getattribute__, as well as properties and descriptors?\n",
    "**Ans:** The Key Differences between `__getattr__`, ` __getattribute__`, Properties and Descriptors are:\n",
    "\n",
    "**`__getattr__`**: Python will call this method whenever you request an attribute that hasn't already been defined\n",
    "\n",
    "**`__getattribute__`** : This method will invoked before looking at the actual attributes on the object. Means,if we have `__getattribute__` method in our class, python invokes this method for every attribute regardless whether it exists or not. \n",
    "\n",
    "**Properties:** With Properties we can bind getter, setter and delete functions together with an attribute name, using the built-in property function or @property decorator. When we do this, each reference to an attribute looks like simple, direct access, but involes the appropriate function of the object.\n",
    "\n",
    "**Descriptor:** With Descriptor we can bind getter, setter and delete functions into a seperate class. we then assign an object of this class to the attribute name in our main class. When we do this, each reference to an attribute looks like simple, direct access but invokes an appropriate function of descriptor object."
   ]
  },
  {
   "cell_type": "code",
   "execution_count": null,
   "id": "425bf981-7430-4a61-aa02-14e24adffc62",
   "metadata": {},
   "outputs": [],
   "source": []
  }
 ],
 "metadata": {
  "kernelspec": {
   "display_name": "Python 3 (ipykernel)",
   "language": "python",
   "name": "python3"
  },
  "language_info": {
   "codemirror_mode": {
    "name": "ipython",
    "version": 3
   },
   "file_extension": ".py",
   "mimetype": "text/x-python",
   "name": "python",
   "nbconvert_exporter": "python",
   "pygments_lexer": "ipython3",
   "version": "3.8.10"
  }
 },
 "nbformat": 4,
 "nbformat_minor": 5
}
