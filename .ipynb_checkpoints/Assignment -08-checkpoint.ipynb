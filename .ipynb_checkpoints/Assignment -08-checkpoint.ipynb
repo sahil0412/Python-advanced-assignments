{
 "cells": [
  {
   "cell_type": "markdown",
   "id": "109a3419-e133-4a1e-a222-a6df977261c9",
   "metadata": {},
   "source": [
    "# Assignment 08 Solutions"
   ]
  },
  {
   "cell_type": "markdown",
   "id": "0a8739a2-875a-4dd2-8e5a-5ef0c16d38b8",
   "metadata": {},
   "source": [
    "#### Q1. What are the two latest user-defined exception constraints in Python 3.X?\n",
    "**Ans:** **`raise`** and **`assert`** are the two latest user-defined exception constraints in Python 3.X"
   ]
  },
  {
   "cell_type": "markdown",
   "id": "57a284b9-ab13-4781-989c-ba3a47bee9e0",
   "metadata": {},
   "source": [
    "#### Q2. How are class-based exceptions that have been raised matched to handlers?\n",
    "**Ans:** In python, Users can define custom exceptions by creating a new class. This exception class has to be derived, either directly or indirectly from built-in **`Exception`** class. This new exception class like other exceptions can be raised using the **`raise`** statement with an optional error message."
   ]
  },
  {
   "cell_type": "code",
   "execution_count": 1,
   "id": "01e74996-c7ab-4e1f-a443-25b04a27bbca",
   "metadata": {},
   "outputs": [
    {
     "ename": "ToYoungException",
     "evalue": "To Young For Voting",
     "output_type": "error",
     "traceback": [
      "\u001b[1;31m---------------------------------------------------------------------------\u001b[0m",
      "\u001b[1;31mToYoungException\u001b[0m                          Traceback (most recent call last)",
      "Cell \u001b[1;32mIn[1], line 5\u001b[0m\n\u001b[0;32m      3\u001b[0m         \u001b[38;5;28mself\u001b[39m\u001b[38;5;241m.\u001b[39mmsg \u001b[38;5;241m=\u001b[39m msg\n\u001b[0;32m      4\u001b[0m age \u001b[38;5;241m=\u001b[39m \u001b[38;5;241m12\u001b[39m\n\u001b[1;32m----> 5\u001b[0m \u001b[38;5;28;01mif\u001b[39;00m age \u001b[38;5;241m<\u001b[39m\u001b[38;5;241m=\u001b[39m \u001b[38;5;241m18\u001b[39m: \u001b[38;5;28;01mraise\u001b[39;00m ToYoungException(\u001b[38;5;124m'\u001b[39m\u001b[38;5;124mTo Young For Voting\u001b[39m\u001b[38;5;124m'\u001b[39m)\n",
      "\u001b[1;31mToYoungException\u001b[0m: To Young For Voting"
     ]
    }
   ],
   "source": [
    "class ToYoungException(Exception):\n",
    "    def __init__(self,msg):\n",
    "        self.msg = msg\n",
    "age = 12\n",
    "if age <= 18: raise ToYoungException('To Young For Voting')"
   ]
  },
  {
   "cell_type": "markdown",
   "id": "d6d3bfc8-284a-4abd-aee8-abbbbfd28d70",
   "metadata": {},
   "source": [
    "#### Q3. Describe two methods for attaching context information to exception artefacts ?\n",
    "**Ans:** Using the **`args`** Attribute: One straightforward method is to include context information as part of the exception message stored in the args attribute of the exception object."
   ]
  },
  {
   "cell_type": "code",
   "execution_count": 6,
   "id": "cd71129d-f934-4d48-b4a1-e14d050255f5",
   "metadata": {},
   "outputs": [
    {
     "ename": "ZeroDivisionError",
     "evalue": "Error occurred: division by zero, additional context: division by zero",
     "output_type": "error",
     "traceback": [
      "\u001b[1;31m---------------------------------------------------------------------------\u001b[0m",
      "\u001b[1;31mZeroDivisionError\u001b[0m                         Traceback (most recent call last)",
      "Cell \u001b[1;32mIn[6], line 3\u001b[0m\n\u001b[0;32m      1\u001b[0m \u001b[38;5;28;01mtry\u001b[39;00m:\n\u001b[0;32m      2\u001b[0m     \u001b[38;5;66;03m# Code that may raise an exception\u001b[39;00m\n\u001b[1;32m----> 3\u001b[0m     result \u001b[38;5;241m=\u001b[39m \u001b[38;5;241;43m1\u001b[39;49m\u001b[43m \u001b[49m\u001b[38;5;241;43m/\u001b[39;49m\u001b[43m \u001b[49m\u001b[38;5;241;43m0\u001b[39;49m\n\u001b[0;32m      4\u001b[0m \u001b[38;5;28;01mexcept\u001b[39;00m \u001b[38;5;167;01mZeroDivisionError\u001b[39;00m \u001b[38;5;28;01mas\u001b[39;00m e:\n\u001b[0;32m      5\u001b[0m     \u001b[38;5;66;03m# Attach context information to the exception message\u001b[39;00m\n",
      "\u001b[1;31mZeroDivisionError\u001b[0m: division by zero",
      "\nDuring handling of the above exception, another exception occurred:\n",
      "\u001b[1;31mZeroDivisionError\u001b[0m                         Traceback (most recent call last)",
      "Cell \u001b[1;32mIn[6], line 6\u001b[0m\n\u001b[0;32m      3\u001b[0m     result \u001b[38;5;241m=\u001b[39m \u001b[38;5;241m1\u001b[39m \u001b[38;5;241m/\u001b[39m \u001b[38;5;241m0\u001b[39m\n\u001b[0;32m      4\u001b[0m \u001b[38;5;28;01mexcept\u001b[39;00m \u001b[38;5;167;01mZeroDivisionError\u001b[39;00m \u001b[38;5;28;01mas\u001b[39;00m e:\n\u001b[0;32m      5\u001b[0m     \u001b[38;5;66;03m# Attach context information to the exception message\u001b[39;00m\n\u001b[1;32m----> 6\u001b[0m     \u001b[38;5;28;01mraise\u001b[39;00m \u001b[38;5;167;01mZeroDivisionError\u001b[39;00m(\u001b[38;5;124mf\u001b[39m\u001b[38;5;124m\"\u001b[39m\u001b[38;5;124mError occurred: \u001b[39m\u001b[38;5;132;01m{\u001b[39;00me\u001b[38;5;241m.\u001b[39margs[\u001b[38;5;241m0\u001b[39m]\u001b[38;5;132;01m}\u001b[39;00m\u001b[38;5;124m, additional context: \u001b[39m\u001b[38;5;132;01m{\u001b[39;00me\u001b[38;5;132;01m}\u001b[39;00m\u001b[38;5;124m\"\u001b[39m)\n",
      "\u001b[1;31mZeroDivisionError\u001b[0m: Error occurred: division by zero, additional context: division by zero"
     ]
    }
   ],
   "source": [
    "try:\n",
    "    # Code that may raise an exception\n",
    "    result = 1 / 0\n",
    "except ZeroDivisionError as e:\n",
    "    # Attach context information to the exception message\n",
    "    raise ZeroDivisionError(f\"Error occurred: {e.args[0]}, additional context: {e}\")\n"
   ]
  },
  {
   "cell_type": "markdown",
   "id": "4693cf11-5b40-4831-ab41-7d008f4eedc8",
   "metadata": {},
   "source": [
    "**`Using Custom Exception Classes:`** : Another approach is to create custom exception classes that inherit from built-in exception classes and include additional attributes to store context information."
   ]
  },
  {
   "cell_type": "code",
   "execution_count": 5,
   "id": "4ab50e5e-62af-4100-9216-cb1e13dbe1ca",
   "metadata": {},
   "outputs": [
    {
     "ename": "CustomError",
     "evalue": "Error occurred",
     "output_type": "error",
     "traceback": [
      "\u001b[1;31m---------------------------------------------------------------------------\u001b[0m",
      "\u001b[1;31mZeroDivisionError\u001b[0m                         Traceback (most recent call last)",
      "Cell \u001b[1;32mIn[5], line 8\u001b[0m\n\u001b[0;32m      6\u001b[0m \u001b[38;5;28;01mtry\u001b[39;00m:\n\u001b[0;32m      7\u001b[0m     \u001b[38;5;66;03m# Code that may raise an exception\u001b[39;00m\n\u001b[1;32m----> 8\u001b[0m     result \u001b[38;5;241m=\u001b[39m \u001b[38;5;241;43m1\u001b[39;49m\u001b[43m \u001b[49m\u001b[38;5;241;43m/\u001b[39;49m\u001b[43m \u001b[49m\u001b[38;5;241;43m0\u001b[39;49m\n\u001b[0;32m      9\u001b[0m \u001b[38;5;28;01mexcept\u001b[39;00m \u001b[38;5;167;01mZeroDivisionError\u001b[39;00m \u001b[38;5;28;01mas\u001b[39;00m e:\n\u001b[0;32m     10\u001b[0m     \u001b[38;5;66;03m# Create custom exception object with context information\u001b[39;00m\n",
      "\u001b[1;31mZeroDivisionError\u001b[0m: division by zero",
      "\nDuring handling of the above exception, another exception occurred:\n",
      "\u001b[1;31mCustomError\u001b[0m                               Traceback (most recent call last)",
      "Cell \u001b[1;32mIn[5], line 11\u001b[0m\n\u001b[0;32m      8\u001b[0m     result \u001b[38;5;241m=\u001b[39m \u001b[38;5;241m1\u001b[39m \u001b[38;5;241m/\u001b[39m \u001b[38;5;241m0\u001b[39m\n\u001b[0;32m      9\u001b[0m \u001b[38;5;28;01mexcept\u001b[39;00m \u001b[38;5;167;01mZeroDivisionError\u001b[39;00m \u001b[38;5;28;01mas\u001b[39;00m e:\n\u001b[0;32m     10\u001b[0m     \u001b[38;5;66;03m# Create custom exception object with context information\u001b[39;00m\n\u001b[1;32m---> 11\u001b[0m     \u001b[38;5;28;01mraise\u001b[39;00m CustomError(\u001b[38;5;124m\"\u001b[39m\u001b[38;5;124mError occurred\u001b[39m\u001b[38;5;124m\"\u001b[39m, context_info\u001b[38;5;241m=\u001b[39me)\n",
      "\u001b[1;31mCustomError\u001b[0m: Error occurred"
     ]
    }
   ],
   "source": [
    "class CustomError(Exception):\n",
    "    def __init__(self, message, context_info=None):\n",
    "        super().__init__(message)\n",
    "        self.context_info = context_info\n",
    "\n",
    "try:\n",
    "    # Code that may raise an exception\n",
    "    result = 1 / 0\n",
    "except ZeroDivisionError as e:\n",
    "    # Create custom exception object with context information\n",
    "    raise CustomError(\"Error occurred\", context_info=e)\n"
   ]
  },
  {
   "cell_type": "markdown",
   "id": "471ff797-27bd-465e-89e7-aefa35f94321",
   "metadata": {},
   "source": [
    "#### Q4. Describe two methods for specifying the text of an exception object's error message ?\n",
    "**Ans:** **`raise`** and **`assert`** are two methods for specifying the text of an exception object's error message.**`raise`** statement is used to trigger explicit exception, if certain condition is not as per requirement of programmer. it helps in triggering exception as per need of programmer and logic.\n",
    "\n",
    "There are few assertions that programmer always want to be True to avoid code failure. This type of requirment is fullfilled by **`assert`** statement. This statement takes a Boolean Condition output of which if True, further program executes. if output of assert statement is False it raises an **`Assertion Error`**."
   ]
  },
  {
   "cell_type": "markdown",
   "id": "dcd61dd0-b467-40ea-a403-e2a7433eb527",
   "metadata": {},
   "source": [
    "#### Q5. Why do you no longer use string-based exceptions?\n",
    "**Ans:** String-based Exceptions doesn't inherit from Exceptions. so plain exceptions catch all exceptions and not only system."
   ]
  },
  {
   "cell_type": "code",
   "execution_count": null,
   "id": "d20825fb-f1f5-4c68-8487-68ebecebb211",
   "metadata": {},
   "outputs": [],
   "source": []
  }
 ],
 "metadata": {
  "kernelspec": {
   "display_name": "Python 3 (ipykernel)",
   "language": "python",
   "name": "python3"
  },
  "language_info": {
   "codemirror_mode": {
    "name": "ipython",
    "version": 3
   },
   "file_extension": ".py",
   "mimetype": "text/x-python",
   "name": "python",
   "nbconvert_exporter": "python",
   "pygments_lexer": "ipython3",
   "version": "3.8.10"
  }
 },
 "nbformat": 4,
 "nbformat_minor": 5
}
