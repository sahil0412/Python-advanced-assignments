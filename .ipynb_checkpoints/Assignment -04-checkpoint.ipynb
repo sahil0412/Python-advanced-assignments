{
 "cells": [
  {
   "cell_type": "markdown",
   "id": "ca82bd13-2ebe-4052-8eee-33add7c05fd4",
   "metadata": {},
   "source": [
    "# Assignment 04 Solutions"
   ]
  },
  {
   "cell_type": "markdown",
   "id": "96602833-72c3-4ed8-b6b1-7f81ac39dcf3",
   "metadata": {},
   "source": [
    "#### Q1. Which two operator overloading methods can you use in your classes to support iteration?\n",
    "**Ans:** **`__iter__`** and **`__next__`** are the operator overloading methods in python that support iteration and are collectively called iterator protocol.\n",
    "\n",
    "- **`__iter__`** returns the iterator object and is called at the start of loop in our respective class.\n",
    "- **`__next__`** is called at each loop increment, it returns the incremented value. Also Stopiteration is raised when there is no value to return."
   ]
  },
  {
   "cell_type": "code",
   "execution_count": 1,
   "id": "4c0418b0-6f79-4764-b29f-6e943ee99c6c",
   "metadata": {},
   "outputs": [
    {
     "name": "stdout",
     "output_type": "stream",
     "text": [
      "5 6 7 8 9 10 11 12 13 14 15 "
     ]
    }
   ],
   "source": [
    "class Counter:\n",
    "    def __init__(self,low,high):\n",
    "        self.current = low\n",
    "        self.high = high\n",
    "    def __iter__(self):\n",
    "        return self\n",
    "    def __next__(self):\n",
    "        if self.current > self.high:\n",
    "            raise StopIteration\n",
    "        else:\n",
    "            self.current += 1\n",
    "            return self.current - 1\n",
    "for ele in Counter(5,15):\n",
    "    print(ele, end=\" \")"
   ]
  },
  {
   "cell_type": "markdown",
   "id": "d4bdf72a-30e5-47cd-b65f-e8bf08a0a60d",
   "metadata": {},
   "source": [
    "#### Q2. In what contexts do the two operator overloading methods manage printing?\n",
    "**Ans:** **`__str__`** and **`__repr__`** are two operator overloading methods that manage printing.\n",
    "- In Short, the difference between both these operators is the goal of **`__repr__`** is to be unambiguous and **`__str__`** is to be readable.\n",
    "- Whenever we are printing any object reference internally **`__str__`** method will be called by default.\n",
    "- The main purpose of **`__str__`** is for readability. it prints the informal string representation of an object, one that is useful for printing the object. it may not be possible to convert result string to original object.\n",
    "- **`__repr__`** is used to print official string representation of an object, so it includes all information and development."
   ]
  },
  {
   "cell_type": "code",
   "execution_count": 3,
   "id": "eee07994-3c4c-4f1a-9aa8-51792e59efdb",
   "metadata": {},
   "outputs": [
    {
     "name": "stdout",
     "output_type": "stream",
     "text": [
      "<__main__.Student object at 0x000001AFD92C1700>\n",
      "Student Name: Mano and Roll No: 1\n",
      "2024-04-28 17:04:43.997051\n",
      "Unable to convert back to original object\n",
      "datetime.datetime(2024, 4, 28, 17, 4, 43, 997051)\n",
      "2024-04-28 17:04:43.997051\n"
     ]
    }
   ],
   "source": [
    "class Student:\n",
    "    def __init__(self,name,roll_no):\n",
    "        self.name = name\n",
    "        self.roll_no = roll_no\n",
    "        \n",
    "s1 = Student(\"Mano\",1)\n",
    "print(str(s1))\n",
    "\n",
    "class Student:\n",
    "    def __init__(self,name,roll_no):\n",
    "        self.name = name\n",
    "        self.roll_no = roll_no\n",
    "    def __str__(self):\n",
    "        return f'Student Name: {self.name} and Roll No: {self.roll_no}'\n",
    "    \n",
    "s1 = Student(\"Mano\",1)\n",
    "print(str(s1))\n",
    "\n",
    "import datetime\n",
    "today = datetime.datetime.now()\n",
    "\n",
    "s = str(today) # converting datetime object to presentable str\n",
    "print(s)\n",
    "try: d = eval(s) # converting str back to datetime object\n",
    "except: print(\"Unable to convert back to original object\")\n",
    "    \n",
    "u = repr(today) # converting datetime object to str\n",
    "print(u)\n",
    "e = eval(u) # converting str back to datetime object\n",
    "print(e)"
   ]
  },
  {
   "cell_type": "markdown",
   "id": "36b3ef39-ed28-443f-8e97-bd0e19a59564",
   "metadata": {},
   "source": [
    "#### Q3. In a class, how do you intercept slice operations?\n",
    "**Ans:** In a class use of `slice()` in `__getitem__` method is used for intercept slice operation. This slice method is provided with start integer number, stop integer number and step integer number. \n",
    "\n",
    "**Example:** `__getitem__(slice(start,stop,step))`"
   ]
  },
  {
   "cell_type": "code",
   "execution_count": 4,
   "id": "501d0454-9d84-4b6f-97d9-4bb87b932f61",
   "metadata": {},
   "outputs": [
    {
     "name": "stdout",
     "output_type": "stream",
     "text": [
      "[2, 3, 4]\n"
     ]
    }
   ],
   "source": [
    "class MyClass:\n",
    "    def __init__(self, data):\n",
    "        self.data = data\n",
    "\n",
    "    def __getitem__(self, key):\n",
    "        if isinstance(key, slice):\n",
    "            # If the key is a slice object\n",
    "            start = key.start if key.start is not None else 0\n",
    "            stop = key.stop if key.stop is not None else len(self.data)\n",
    "            step = key.step if key.step is not None else 1\n",
    "            return self.data[start:stop:step]\n",
    "        else:\n",
    "            # Handle single element access\n",
    "            return self.data[key]\n",
    "\n",
    "# Example usage\n",
    "my_list = MyClass([1, 2, 3, 4, 5])\n",
    "print(my_list[1:4])  # Output: [2, 3, 4]\n"
   ]
  },
  {
   "cell_type": "markdown",
   "id": "97ac9ca5-a6c7-4691-9a0a-a7291bafed4a",
   "metadata": {},
   "source": [
    "#### Q4. In a class, how do you capture in-place addition?\n",
    "**Ans:** **`a+b`** is normal addition. Whereas **`a+=b`** is inplace addition operation. In this in-place addition **`a`** itself will store the value of addition. In a class **`__iadd__`** method is used for this in-place operation"
   ]
  },
  {
   "cell_type": "code",
   "execution_count": 5,
   "id": "84f6cfb5-75fd-4ca8-89cb-76d7ad1b3d4d",
   "metadata": {},
   "outputs": [
    {
     "name": "stdout",
     "output_type": "stream",
     "text": [
      "300\n"
     ]
    }
   ],
   "source": [
    "class Book:\n",
    "    def __init__(self,pages):\n",
    "        self.pages = pages\n",
    "    def __iadd__(self,other):\n",
    "        self.pages += other.pages\n",
    "        return self.pages\n",
    "        \n",
    "b1 = Book(100)\n",
    "b2 = Book(200)\n",
    "b1+=b2\n",
    "print(b1)"
   ]
  },
  {
   "cell_type": "markdown",
   "id": "f6ab9957-4e69-4c3d-9492-8c6ab6c2f848",
   "metadata": {},
   "source": [
    "#### Q5. When is it appropriate to use operator overloading?\n",
    "**Ans:** Operator overloading is used when we want to use an operator other than its normal operation to have different meaning according to the context required in user defined function."
   ]
  },
  {
   "cell_type": "code",
   "execution_count": 6,
   "id": "afc3878d-b72f-45ea-b3a5-1a1e4a441a1a",
   "metadata": {},
   "outputs": [
    {
     "name": "stdout",
     "output_type": "stream",
     "text": [
      "Total Number of Pages -> 300\n"
     ]
    }
   ],
   "source": [
    "class Book:\n",
    "    def __init__(self,pages):\n",
    "        self.pages = pages\n",
    "    def __add__(self,other):\n",
    "        return self.pages+other.pages\n",
    "b1 = Book(100)\n",
    "b2 = Book(200)\n",
    "print(f'Total Number of Pages -> {b1+b2}')"
   ]
  },
  {
   "cell_type": "code",
   "execution_count": null,
   "id": "3543fac8-ea74-47b1-9071-eb21333e9f73",
   "metadata": {},
   "outputs": [],
   "source": []
  }
 ],
 "metadata": {
  "kernelspec": {
   "display_name": "Python 3 (ipykernel)",
   "language": "python",
   "name": "python3"
  },
  "language_info": {
   "codemirror_mode": {
    "name": "ipython",
    "version": 3
   },
   "file_extension": ".py",
   "mimetype": "text/x-python",
   "name": "python",
   "nbconvert_exporter": "python",
   "pygments_lexer": "ipython3",
   "version": "3.8.10"
  }
 },
 "nbformat": 4,
 "nbformat_minor": 5
}
