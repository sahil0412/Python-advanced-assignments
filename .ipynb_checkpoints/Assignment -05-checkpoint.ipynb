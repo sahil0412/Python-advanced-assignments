{
 "cells": [
  {
   "cell_type": "markdown",
   "id": "248ddb48-93ba-4a8a-a61e-5338588285eb",
   "metadata": {},
   "source": [
    "# Assignment 05 Solutions"
   ]
  },
  {
   "cell_type": "markdown",
   "id": "3b594f7c-8d09-4927-ae18-c78470d18ccb",
   "metadata": {},
   "source": [
    "#### Q1. What is the meaning of multiple inheritance?\n",
    "**Ans:** Inheritence is nothing but reusing the code of Parent class by the child class. Similary when a child class inherits its properties from multiple Parent classes this scenario is called **Multiple Inheritence**"
   ]
  },
  {
   "cell_type": "code",
   "execution_count": 1,
   "id": "464a9276-d5e3-4899-84ae-d9a9cfd13603",
   "metadata": {},
   "outputs": [],
   "source": [
    "class Parent_one:\n",
    "    pass\n",
    "class Parent_two:\n",
    "    pass\n",
    "class child(Parent_one,Parent_two):\n",
    "    pass"
   ]
  },
  {
   "cell_type": "markdown",
   "id": "c0c08b36-61c9-45b5-8c16-5f14775b74fe",
   "metadata": {},
   "source": [
    "#### Q2. What is the concept of delegation?\n",
    "**Ans:** Delegation is a design pattern where an object passes responsibility for a particular task or functionality to another object. Instead of performing the task itself, the delegating object delegates it to another object, which is responsible for handling it.\n",
    "\n",
    "In delegation, the delegating object maintains a reference to the delegate object and forwards requests or calls to it when necessary. The delegate object then performs the requested task and returns the result to the delegating object if needed."
   ]
  },
  {
   "cell_type": "code",
   "execution_count": 4,
   "id": "363fe85d-254d-43da-8e63-fe323f775cf8",
   "metadata": {},
   "outputs": [
    {
     "name": "stdout",
     "output_type": "stream",
     "text": [
      "Working hard\n"
     ]
    }
   ],
   "source": [
    "class Worker:\n",
    "    def work(self):\n",
    "        return \"Working hard\"\n",
    "\n",
    "class Manager:\n",
    "    def __init__(self):\n",
    "        self.worker = Worker()\n",
    "\n",
    "    def delegate_work(self):\n",
    "        # Delegating the task of working to the Worker object\n",
    "        return self.worker.work()\n",
    "\n",
    "manager = Manager()\n",
    "print(manager.delegate_work())  # Output: \"Working hard\"\n"
   ]
  },
  {
   "cell_type": "markdown",
   "id": "7a14558e-dda3-44b5-a356-0d9bb2e82f38",
   "metadata": {},
   "source": [
    "#### Q3. What is the concept of composition?\n",
    "**Ans:** Composition is a design principle in object-oriented programming (OOP) where a class contains objects of other classes as member variables. In composition, the containing class doesn't inherit behavior from the contained objects but instead uses them to implement its own behavior."
   ]
  },
  {
   "cell_type": "code",
   "execution_count": 5,
   "id": "b2fe012e-ffad-446c-a0d1-258bd39a93d8",
   "metadata": {},
   "outputs": [
    {
     "name": "stdout",
     "output_type": "stream",
     "text": [
      "Engine started\n",
      "Engine stopped\n"
     ]
    }
   ],
   "source": [
    "class Engine:\n",
    "    def start(self):\n",
    "        return \"Engine started\"\n",
    "\n",
    "    def stop(self):\n",
    "        return \"Engine stopped\"\n",
    "\n",
    "class Car:\n",
    "    def __init__(self):\n",
    "        self.engine = Engine()  # Composition: Car has an Engine\n",
    "\n",
    "    def start_car(self):\n",
    "        return self.engine.start()\n",
    "\n",
    "    def stop_car(self):\n",
    "        return self.engine.stop()\n",
    "\n",
    "my_car = Car()\n",
    "print(my_car.start_car())  # Output: \"Engine started\"\n",
    "print(my_car.stop_car())   # Output: \"Engine stopped\"\n"
   ]
  },
  {
   "cell_type": "markdown",
   "id": "3583b25d-ed09-481c-83ff-dd6f74b3f5e4",
   "metadata": {},
   "source": [
    "#### Q4. What are bound methods and how do we use them?\n",
    "**Ans:** If a function is an attribute of class and it is accessed via the instances, they are called **bound methods**. A bound method is one that has **`self`** as its first argument. Since these are dependent on the instance of classes, these are also known as **instance methods**."
   ]
  },
  {
   "cell_type": "code",
   "execution_count": 6,
   "id": "0a484739-caf2-4811-a36a-c3c7e97f8509",
   "metadata": {},
   "outputs": [
    {
     "name": "stdout",
     "output_type": "stream",
     "text": [
      "Called method_one\n",
      "Called method_two\n",
      "Called method_two\n",
      "Called method_three\n"
     ]
    }
   ],
   "source": [
    "class Test:\n",
    "    def method_one(self): # bound method\n",
    "        print(\"Called method_one\")\n",
    "    @classmethod\n",
    "    def method_two(cls): # unbound method\n",
    "        print(\"Called method_two\")\n",
    "    @staticmethod\n",
    "    def method_three(): # static method\n",
    "        print(\"Called method_three\")\n",
    "\n",
    "test = Test()\n",
    "test.method_one() # accessing through instance object\n",
    "test.method_two() # accessing through instance object\n",
    "Test.method_two() # accessing directly through class\n",
    "Test.method_three() # accessing directly through class"
   ]
  },
  {
   "cell_type": "markdown",
   "id": "1f114359-fc09-4b06-b513-2bc40449aedf",
   "metadata": {},
   "source": [
    "#### Q5. What is the purpose of pseudoprivate attributes?\n",
    "**Ans:** Pseudoprivate attributes, also known as name mangling in Python, are a convention for creating \"private\" attributes within a class. These attributes are not truly private in the sense that they can still be accessed from outside the class, but their names are mangled to make them harder to access accidentally and to indicate that they are intended for internal use within the class.\n",
    "\n",
    "The purpose of pseudoprivate attributes is to provide a way for class developers to mark certain attributes as intended for internal use only, thus reducing the risk of unintentional interference or misuse by users of the class. By mangling the attribute names, developers can make it more difficult for external code to access or modify these attributes directly, encouraging users to interact with the class through its public interface."
   ]
  },
  {
   "cell_type": "code",
   "execution_count": 8,
   "id": "21e36a71-4e09-4714-aa35-3021572756e7",
   "metadata": {},
   "outputs": [
    {
     "name": "stdout",
     "output_type": "stream",
     "text": [
      "42\n",
      "42\n"
     ]
    },
    {
     "ename": "AttributeError",
     "evalue": "'MyClass' object has no attribute '__private_attr'",
     "output_type": "error",
     "traceback": [
      "\u001b[1;31m---------------------------------------------------------------------------\u001b[0m",
      "\u001b[1;31mAttributeError\u001b[0m                            Traceback (most recent call last)",
      "Cell \u001b[1;32mIn[8], line 11\u001b[0m\n\u001b[0;32m      9\u001b[0m \u001b[38;5;28mprint\u001b[39m(obj\u001b[38;5;241m.\u001b[39mget_private_attr())  \n\u001b[0;32m     10\u001b[0m \u001b[38;5;28mprint\u001b[39m(obj\u001b[38;5;241m.\u001b[39m_MyClass__private_attr)\n\u001b[1;32m---> 11\u001b[0m \u001b[38;5;28mprint\u001b[39m(\u001b[43mobj\u001b[49m\u001b[38;5;241;43m.\u001b[39;49m\u001b[43m__private_attr\u001b[49m)  \u001b[38;5;66;03m# Raises AttributeError\u001b[39;00m\n",
      "\u001b[1;31mAttributeError\u001b[0m: 'MyClass' object has no attribute '__private_attr'"
     ]
    }
   ],
   "source": [
    "class MyClass:\n",
    "    def __init__(self):\n",
    "        self.__private_attr = 42  # Pseudoprivate attribute\n",
    "\n",
    "    def get_private_attr(self):\n",
    "        return self.__private_attr\n",
    "\n",
    "obj = MyClass()\n",
    "print(obj.get_private_attr())  \n",
    "print(obj._MyClass__private_attr)\n",
    "print(obj.__private_attr)  # Raises AttributeError\n"
   ]
  },
  {
   "cell_type": "code",
   "execution_count": null,
   "id": "1f66ac09-f955-43fe-85a7-cf597154c9c8",
   "metadata": {},
   "outputs": [],
   "source": []
  }
 ],
 "metadata": {
  "kernelspec": {
   "display_name": "Python 3 (ipykernel)",
   "language": "python",
   "name": "python3"
  },
  "language_info": {
   "codemirror_mode": {
    "name": "ipython",
    "version": 3
   },
   "file_extension": ".py",
   "mimetype": "text/x-python",
   "name": "python",
   "nbconvert_exporter": "python",
   "pygments_lexer": "ipython3",
   "version": "3.8.10"
  }
 },
 "nbformat": 4,
 "nbformat_minor": 5
}
