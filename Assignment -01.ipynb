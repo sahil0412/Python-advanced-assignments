{
 "cells": [
  {
   "cell_type": "markdown",
   "id": "4e810af9-a484-4391-82e9-397a5881b327",
   "metadata": {},
   "source": [
    "# Assignment 01 Solutions"
   ]
  },
  {
   "cell_type": "markdown",
   "id": "82a798be-2708-4a5d-9094-c5f79b47e5a6",
   "metadata": {},
   "source": [
    "#### Q1. What is the purpose of Python's OOP?\n",
    "**Ans:** Object-oriented programming is a programming paradigm that provides a means of structuring programs so that properties and behaviors are bundled into individual objects\n",
    "- In Python, object-oriented Programming (OOPs) uses objects and classes in programming. \n",
    "- It aims to implement real-world entities like inheritance, polymorphisms, encapsulation, etc. in the programming.\n",
    "- The main concept of OOPs is to bind the data and the functions that work on that together as a single unit so that no other part of the code can access this data. \n",
    "- It comes up with the following advantages:\n",
    "- It helps to divide our over all program into different small segments and thus making it solving easy with the use of objects\n",
    "- Helps in easy maintenance and modification of existing program\n",
    "- Multiple instances of an object can be made."
   ]
  },
  {
   "cell_type": "markdown",
   "id": "2012aa49-8ab6-486f-b7c6-d15442e8cac2",
   "metadata": {},
   "source": [
    "#### Q2. Where does an inheritance search look for an attribute?\n",
    "**Ans:** Python searches for an attribute in an upward tree of attributes. it first searches for the attribute in its instance and then looks in the class it is generated from, to all super classes listed in its class header"
   ]
  },
  {
   "cell_type": "markdown",
   "id": "4a8e9c5a-6663-4729-a483-2386f8cc054d",
   "metadata": {},
   "source": [
    "#### Q3. How do you distinguish between a class object and an instance object?\n",
    "**Ans:** The differences between a class object and an instance object are:\n",
    "1. Class is a template for creating objects whereas object is an instance of class\n",
    "2. Seperate memory is allocated for each object whenever an object is created. but for a class this doesnot happens.\n",
    "3. A Class is created once. Many objects are created using a class.\n",
    "4. As Classes have no allocated memory. they can't be manipulated. but objects can be manipulated."
   ]
  },
  {
   "cell_type": "markdown",
   "id": "698ce144-c877-4570-a93d-90dfbf88128f",
   "metadata": {},
   "source": [
    "#### Q4. What makes the first argument in a class’s method function special?\n",
    "**Ans:** Python Classes usually have three types of methods which are:\n",
    "- Instance Methods (object level methods)\n",
    "- Class Methods (class level methods)\n",
    "- Static Methods (general utility methods)\n",
    "- **`self`** is the first argument for instance methods. which refers to the object itself\n",
    "- **`cls`** is the first argument for class methods which refers to the class itself"
   ]
  },
  {
   "cell_type": "markdown",
   "id": "5a373aad-f8f7-46af-9f71-53a16a769958",
   "metadata": {},
   "source": [
    "#### Q5. What is the purpose of the __init__ method?\n",
    "**Ans:** **`__init__`** is a reseved method in python classes. It serves the role of a **constructor** in object oriented terminology. This method is called when an object is created from a class and it allows the class to initialize the attributes of the class"
   ]
  },
  {
   "cell_type": "markdown",
   "id": "4d0a796a-4c2b-4fd8-b369-910af423e063",
   "metadata": {},
   "source": [
    "#### Q6. What is the process for creating a class instance?\n",
    "**Ans:** To create a class instance, we need to call the class by its name and pass the arguments to the class, which its **`init`** method accepts.\n",
    "\n",
    "**Example:** **`my_name = my_class(\"Sahil\",\"Aggarwal\")`** Here `my_name` is an instance of class `my_class` with attributes \"Sahil\" and \"Aggarwal\"."
   ]
  },
  {
   "cell_type": "markdown",
   "id": "caaa45ea-7b1e-47e1-8109-325891f78bdc",
   "metadata": {},
   "source": [
    "#### Q7. What is the process for creating a class?\n",
    "**Ans:** **`class`** keyword is used to created a class in python. The syntax to create a class in python is **`class <classname>:`**\n",
    "\n",
    "**Example:** **`class Car:`**  ➞  this creates a class called Car"
   ]
  },
  {
   "cell_type": "markdown",
   "id": "fae34ae2-03d5-434f-81a8-d304312a6747",
   "metadata": {},
   "source": [
    "#### Q8. How would you define the superclasses of a class?\n",
    "**Ans** Superclass/Parent class is given as a arugment to the child class\n",
    "\n",
    "**Example:** `class Employee(Person):` Here child class `Employee` inherits attributes and methofs from Superclass/Parent `Person`"
   ]
  },
  {
   "cell_type": "code",
   "execution_count": null,
   "id": "1f288b66-1ccb-495b-9d27-607fc5dc15d1",
   "metadata": {},
   "outputs": [],
   "source": []
  }
 ],
 "metadata": {
  "kernelspec": {
   "display_name": "Python 3 (ipykernel)",
   "language": "python",
   "name": "python3"
  },
  "language_info": {
   "codemirror_mode": {
    "name": "ipython",
    "version": 3
   },
   "file_extension": ".py",
   "mimetype": "text/x-python",
   "name": "python",
   "nbconvert_exporter": "python",
   "pygments_lexer": "ipython3",
   "version": "3.8.10"
  }
 },
 "nbformat": 4,
 "nbformat_minor": 5
}
